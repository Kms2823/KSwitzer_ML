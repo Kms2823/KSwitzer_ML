{
  "nbformat": 4,
  "nbformat_minor": 0,
  "metadata": {
    "colab": {
      "provenance": [],
      "authorship_tag": "ABX9TyMyabYal7SGossgWwijCU0g",
      "include_colab_link": true
    },
    "kernelspec": {
      "name": "python3",
      "display_name": "Python 3"
    },
    "language_info": {
      "name": "python"
    }
  },
  "cells": [
    {
      "cell_type": "markdown",
      "metadata": {
        "id": "view-in-github",
        "colab_type": "text"
      },
      "source": [
        "<a href=\"https://colab.research.google.com/github/Kms2823/KSwitzer_ML/blob/main/KS_HW1_Q4.ipynb\" target=\"_parent\"><img src=\"https://colab.research.google.com/assets/colab-badge.svg\" alt=\"Open In Colab\"/></a>"
      ]
    },
    {
      "cell_type": "code",
      "execution_count": null,
      "metadata": {
        "id": "P7_V9I4Z6nRu"
      },
      "outputs": [],
      "source": [
        "!pip install d2l==1.0.3"
      ]
    },
    {
      "cell_type": "code",
      "source": [
        "import tensorflow as tf\n",
        "from d2l import tensorflow as d2l"
      ],
      "metadata": {
        "id": "qIozwjXW9Odt"
      },
      "execution_count": 1,
      "outputs": []
    },
    {
      "cell_type": "code",
      "source": [
        "class MLPScratch(d2l.Classifier):\n",
        "    def __init__(self, num_inputs, num_outputs, num_hiddens, lr, sigma=0.01):\n",
        "        super().__init__()\n",
        "        self.save_hyperparameters()\n",
        "        self.W1 = tf.Variable(\n",
        "            tf.random.normal((num_inputs, num_hiddens)) * sigma)\n",
        "        self.b1 = tf.Variable(tf.zeros(num_hiddens))\n",
        "        self.W2 = tf.Variable(\n",
        "            tf.random.normal((num_hiddens, num_outputs)) * sigma)\n",
        "        self.b2 = tf.Variable(tf.zeros(num_outputs))"
      ],
      "metadata": {
        "id": "JjnYO9vo9YFY"
      },
      "execution_count": 2,
      "outputs": []
    },
    {
      "cell_type": "code",
      "source": [
        "class MLPScratch_constant_initialization(d2l.Classifier):\n",
        "    def __init__(self, num_inputs, num_outputs, num_hiddens, lr):\n",
        "        super().__init__()\n",
        "        self.save_hyperparameters()\n",
        "        self.W1 = tf.Variable(initial_value=tf.constant(1., dtype=tf.float32, shape=(num_inputs, num_hiddens)), trainable=True)\n",
        "        self.b1 = tf.Variable(tf.zeros(num_hiddens))\n",
        "        self.W2 = tf.Variable(initial_value=tf.constant(1., dtype=tf.float32, shape=(num_hiddens, num_outputs)), trainable=True)\n",
        "        self.b2 = tf.Variable(tf.zeros(num_outputs))"
      ],
      "metadata": {
        "id": "0YRrqqb49bSZ"
      },
      "execution_count": 3,
      "outputs": []
    },
    {
      "cell_type": "code",
      "source": [
        "class MLPScratch_zero_initialization(d2l.Classifier):\n",
        "    def __init__(self, num_inputs, num_outputs, num_hiddens, lr):\n",
        "        super().__init__()\n",
        "        self.save_hyperparameters()\n",
        "        self.W1 = tf.Variable(tf.zeros(shape=(num_inputs, num_hiddens)))\n",
        "        self.b1 = tf.Variable(tf.zeros(num_hiddens))\n",
        "        self.W2 = tf.Variable(tf.zeros(shape=(num_hiddens, num_outputs)))\n",
        "        self.b2 = tf.Variable(tf.zeros(num_outputs))"
      ],
      "metadata": {
        "id": "XEmYOHba9eTx"
      },
      "execution_count": 4,
      "outputs": []
    }
  ]
}